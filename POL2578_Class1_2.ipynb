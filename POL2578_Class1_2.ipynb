{
 "cells": [
  {
   "cell_type": "markdown",
   "metadata": {},
   "source": [
    "<h1> POL2578.  Classes 1-2.  Introduction to Python.</h1>\n",
    "\n",
    "During the first two classes, we will gain familiarity with the Python programming language. In particular, we will cover the key building blocks of programming languages and see how they are handled in Python.\n",
    "\n",
    "We will cover the following themes:\n",
    "<ol>\n",
    "<li> Introductory words on strings and encodings.</li>\n",
    "<li> Data types: integers, floating-point numbers and strings. </li>\n",
    "<li> Lists, tuples and dictionaries. </li>\n",
    "<li> Loops and conditional statements. </li>\n",
    "<li> Input/Output. </li>\n",
    "<li> Functions. </li>\n",
    "<li> Classes. </li>\n",
    "<li> Exercises with handling file formats. </li>\n",
    "</ol>\n",
    "\n",
    "<h2>Introductory words on strings and encodings</h2>\n",
    "\n",
    "We will use the <b>Jupyter</b> notebook for examples during class (based on iPython). This is a popular and modern approach to write code in Python.  It allows to combine formatted comments, input code and output in a single document.\n",
    "\n",
    "For starters, we will look at how <b>Python</b> processes strings (textual characters) and encodings.\n",
    "\n",
    "Unlike low-level languages, Python recognizes a string without the need to declare it when we use the quotation marks.  For instance:\n",
    "\n",
    "\n"
   ]
  },
  {
   "cell_type": "code",
   "execution_count": null,
   "metadata": {},
   "outputs": [],
   "source": [
    "x = \"This is a sentence.\"\n",
    "print(x)"
   ]
  },
  {
   "cell_type": "markdown",
   "metadata": {},
   "source": [
    "Notice that we can use the single, double or triple quotes; we only need to be consistent in our usage, i.e. closing the quote with the same type we use to open it."
   ]
  },
  {
   "cell_type": "code",
   "execution_count": null,
   "metadata": {},
   "outputs": [],
   "source": [
    "y = 'Hello, World!'\n",
    "print(y)"
   ]
  },
  {
   "cell_type": "markdown",
   "metadata": {},
   "source": [
    "Python 3 uses the unicode standard by default to encode strings. This is what we want. But you may face situations where a document was encoded using an older standard. Here's an example. Suppose someone sends you the file gazette.txt, an article from The Gazette. The below may cause an error on Mac or Linux systems. On a Windows OS, it should open fine. However, Windows does not use unicode as default, and users may need to specify the encoding, which I will do for the examples in this class."
   ]
  },
  {
   "cell_type": "code",
   "execution_count": null,
   "metadata": {},
   "outputs": [],
   "source": [
    "f = open('gazette.txt')\n",
    "text = f.read()\n",
    "f.close()"
   ]
  },
  {
   "cell_type": "markdown",
   "metadata": {},
   "source": [
    "Specifically, the file was encoded with the ISO-8859-1 standard. It contains accents. We can open it properly by specifying the encoding. Here, \"latin\" is an alias for that encoding."
   ]
  },
  {
   "cell_type": "code",
   "execution_count": null,
   "metadata": {},
   "outputs": [],
   "source": [
    "f = open('gazette.txt', encoding='latin')\n",
    "text = f.read()\n",
    "f.close()\n",
    "\n",
    "print(text)"
   ]
  },
  {
   "cell_type": "markdown",
   "metadata": {},
   "source": [
    "On Mac or Linux, files will be saved in unicode by default. \n",
    "\n",
    "For cross-platform consistency, I will specify the encoding when opening files."
   ]
  },
  {
   "cell_type": "code",
   "execution_count": null,
   "metadata": {},
   "outputs": [],
   "source": [
    "g = open('gazette_unicode.txt', 'w', encoding='utf-8')\n",
    "g.write(text)\n",
    "g.close()"
   ]
  },
  {
   "cell_type": "code",
   "execution_count": null,
   "metadata": {},
   "outputs": [],
   "source": [
    "f = open('gazette_unicode.txt', encoding='utf-8')\n",
    "text = f.read()\n",
    "f.close()\n",
    "\n",
    "print(text)"
   ]
  },
  {
   "cell_type": "markdown",
   "metadata": {},
   "source": [
    "These types of problems are less and less frequent, given that most people have moved to unicode as the new standard.\n",
    "\n",
    "Again, if the document uses unicode, it won't be a problem. Even this Jupyter page is utf-8 encoded. For instance:"
   ]
  },
  {
   "cell_type": "code",
   "execution_count": null,
   "metadata": {},
   "outputs": [],
   "source": [
    "text = '緁 榃痯痻 彃慔慛 噅尰崺 圁垺,槄 鞿鬖 裌覅詵 裺觨誖 鈖嗋圔'\n",
    "print(text)"
   ]
  },
  {
   "cell_type": "markdown",
   "metadata": {},
   "source": [
    "If running into troubles, you may find the full list of encodings supported in Python here: https://docs.python.org/3/library/codecs.html#standard-encodings"
   ]
  },
  {
   "cell_type": "markdown",
   "metadata": {},
   "source": [
    "<h2> Data types </h2>\n",
    "\n",
    "The most common data types in programming are:\n",
    "<ul>\n",
    "<li> Integers </li>\n",
    "<li> Floating-point numbers </li>\n",
    "<li> Characters (strings) </li>\n",
    "</ul>\n",
    "\n",
    "A particularity of Python is that there is no need to define the type of a new variable.  The interpreter will recognize and assign a type automatically.  \n",
    "\n",
    "We define a variable, no matter their type, with the equal sign.  Values are assigned to objects. For instance, we can assign the integer 5 to an object we want to call x as follows:"
   ]
  },
  {
   "cell_type": "code",
   "execution_count": null,
   "metadata": {},
   "outputs": [],
   "source": [
    "x = 5"
   ]
  },
  {
   "cell_type": "markdown",
   "metadata": {},
   "source": [
    "Type the name of an object to display its value:"
   ]
  },
  {
   "cell_type": "code",
   "execution_count": null,
   "metadata": {},
   "outputs": [],
   "source": [
    "x"
   ]
  },
  {
   "cell_type": "markdown",
   "metadata": {},
   "source": [
    "Again, to know the type assigned to an object, use the <b>type</b> function."
   ]
  },
  {
   "cell_type": "code",
   "execution_count": null,
   "metadata": {},
   "outputs": [],
   "source": [
    "type(x)"
   ]
  },
  {
   "cell_type": "markdown",
   "metadata": {},
   "source": [
    "Basic mathematical operations can be performed with this new object x."
   ]
  },
  {
   "cell_type": "code",
   "execution_count": null,
   "metadata": {
    "scrolled": true
   },
   "outputs": [],
   "source": [
    "print(x + 2) # Addition.\n",
    "print(x - 2) # Subtraction.\n",
    "print(x * 2) # Multiplication.\n",
    "print(x ** 2) # Exponentiation.\n",
    "print(x / 2) # Division.\n",
    "print(x % 2) # Modulus (remainder of a division)."
   ]
  },
  {
   "cell_type": "markdown",
   "metadata": {},
   "source": [
    "To declare a floating point number, add a decimal."
   ]
  },
  {
   "cell_type": "code",
   "execution_count": null,
   "metadata": {},
   "outputs": [],
   "source": [
    "x = 5.0"
   ]
  },
  {
   "cell_type": "code",
   "execution_count": null,
   "metadata": {},
   "outputs": [],
   "source": [
    "type(x)"
   ]
  },
  {
   "cell_type": "markdown",
   "metadata": {},
   "source": [
    "The type we're especially interested in for this course is the string type, which contains  characters."
   ]
  },
  {
   "cell_type": "code",
   "execution_count": null,
   "metadata": {},
   "outputs": [],
   "source": [
    "x = 'Joe'"
   ]
  },
  {
   "cell_type": "code",
   "execution_count": null,
   "metadata": {},
   "outputs": [],
   "source": [
    "x"
   ]
  },
  {
   "cell_type": "code",
   "execution_count": null,
   "metadata": {},
   "outputs": [],
   "source": [
    "type(x)"
   ]
  },
  {
   "cell_type": "markdown",
   "metadata": {},
   "source": [
    "Manipulating strings in Python is very easy, making the language ideal for text processing.  \n",
    "\n",
    "For instance, concatenate strings with the addition simple:"
   ]
  },
  {
   "cell_type": "code",
   "execution_count": null,
   "metadata": {},
   "outputs": [],
   "source": [
    "y = 'Biden'\n",
    "print(x + ' ' + y)"
   ]
  },
  {
   "cell_type": "markdown",
   "metadata": {},
   "source": [
    "Modifications are usually not \"in place\" by default; you need to reassign values to an object if they are to be used later."
   ]
  },
  {
   "cell_type": "code",
   "execution_count": null,
   "metadata": {},
   "outputs": [],
   "source": [
    "x = x + ' ' + y\n",
    "print(x)"
   ]
  },
  {
   "cell_type": "markdown",
   "metadata": {},
   "source": [
    "We can select characters from a string using indexes.   The usage is object[i:j] for subsetting the characters from position i to j exclusive, i.e. to j-1.  \n",
    "\n",
    "Importantly, note that Python is <b>0-based</b>.\n",
    "\n",
    "For instance, get characters 0 to 5 with x[0:6]:"
   ]
  },
  {
   "cell_type": "code",
   "execution_count": null,
   "metadata": {},
   "outputs": [],
   "source": [
    "x[0:6]"
   ]
  },
  {
   "cell_type": "markdown",
   "metadata": {},
   "source": [
    "For the first n characters, use object[:n], which is implicitly x[0:n]. "
   ]
  },
  {
   "cell_type": "code",
   "execution_count": null,
   "metadata": {},
   "outputs": [],
   "source": [
    "x[:2]"
   ]
  },
  {
   "cell_type": "markdown",
   "metadata": {},
   "source": [
    "For the last n characters, use object[-n:]."
   ]
  },
  {
   "cell_type": "code",
   "execution_count": null,
   "metadata": {},
   "outputs": [],
   "source": [
    "x[-3:]"
   ]
  },
  {
   "cell_type": "markdown",
   "metadata": {},
   "source": [
    "There is a number of built-in methods (functions) for strings, which are very useful for everything we do in this course. Here are some of them:\n",
    "\n",
    "<ul>\n",
    "<li> Capitalize first letter: object.capitalize() </li>\n",
    "<li> Convert all to lower case: object.lower() </li>\n",
    "<li> Convert all to upper case: object.upper() </li>\n",
    "<li> Find if a substring/character is present: object.find(substring) </li>\n",
    "<li> Replace a substring/character within a string: object.replace(substring, replacement) </li>\n",
    "<li> Split a string based on a delimiter: object.split(delimiter) </li>\n",
    "</ul>"
   ]
  },
  {
   "cell_type": "code",
   "execution_count": null,
   "metadata": {},
   "outputs": [],
   "source": [
    "'joe'.capitalize()"
   ]
  },
  {
   "cell_type": "code",
   "execution_count": null,
   "metadata": {},
   "outputs": [],
   "source": [
    "x.lower()"
   ]
  },
  {
   "cell_type": "code",
   "execution_count": null,
   "metadata": {},
   "outputs": [],
   "source": [
    "x.upper()"
   ]
  },
  {
   "cell_type": "code",
   "execution_count": null,
   "metadata": {},
   "outputs": [],
   "source": [
    "x.find('Biden')"
   ]
  },
  {
   "cell_type": "code",
   "execution_count": null,
   "metadata": {},
   "outputs": [],
   "source": [
    "x.startswith('J')"
   ]
  },
  {
   "cell_type": "code",
   "execution_count": null,
   "metadata": {},
   "outputs": [],
   "source": [
    "x.replace('Biden','Brown')"
   ]
  },
  {
   "cell_type": "code",
   "execution_count": null,
   "metadata": {},
   "outputs": [],
   "source": [
    "x.split()"
   ]
  },
  {
   "cell_type": "code",
   "execution_count": null,
   "metadata": {},
   "outputs": [],
   "source": [
    "'     Annoying white space on the left.'.lstrip()"
   ]
  },
  {
   "cell_type": "code",
   "execution_count": null,
   "metadata": {},
   "outputs": [],
   "source": [
    "'Annoying white space on the right.        '.rstrip()"
   ]
  },
  {
   "cell_type": "code",
   "execution_count": null,
   "metadata": {},
   "outputs": [],
   "source": [
    "'    Annoying white space on both sides!    '.strip()"
   ]
  },
  {
   "cell_type": "markdown",
   "metadata": {},
   "source": [
    "<h2> Lists, Tuples and Dictionaries </h2>\n",
    "\n",
    "<h3> Lists </h3>\n",
    "\n",
    "The most \"Pythonic\" of all object types is the <b>list</b>.  Lists are used all the time, and are declared using squared brackets.  Lists give Python its own identity; they are incredibly powerful and useful, as we will see below."
   ]
  },
  {
   "cell_type": "code",
   "execution_count": null,
   "metadata": {},
   "outputs": [],
   "source": [
    "x = ['Joe', 1, 2.0, 'maybe']"
   ]
  },
  {
   "cell_type": "code",
   "execution_count": null,
   "metadata": {},
   "outputs": [],
   "source": [
    "x"
   ]
  },
  {
   "cell_type": "code",
   "execution_count": null,
   "metadata": {},
   "outputs": [],
   "source": [
    "len(x)"
   ]
  },
  {
   "cell_type": "code",
   "execution_count": null,
   "metadata": {},
   "outputs": [],
   "source": [
    "for item in x:\n",
    "    print(item)"
   ]
  },
  {
   "cell_type": "code",
   "execution_count": null,
   "metadata": {},
   "outputs": [],
   "source": [
    "x[0]"
   ]
  },
  {
   "cell_type": "code",
   "execution_count": null,
   "metadata": {},
   "outputs": [],
   "source": [
    "x[1]"
   ]
  },
  {
   "cell_type": "code",
   "execution_count": null,
   "metadata": {},
   "outputs": [],
   "source": [
    "type(x[0])"
   ]
  },
  {
   "cell_type": "code",
   "execution_count": null,
   "metadata": {},
   "outputs": [],
   "source": [
    "type(x[1])"
   ]
  },
  {
   "cell_type": "code",
   "execution_count": null,
   "metadata": {},
   "outputs": [],
   "source": [
    "x.append('Trudeau')\n",
    "x"
   ]
  },
  {
   "cell_type": "code",
   "execution_count": null,
   "metadata": {},
   "outputs": [],
   "source": [
    "x = 'This is a sample sentence'.split()\n",
    "x"
   ]
  },
  {
   "cell_type": "code",
   "execution_count": null,
   "metadata": {},
   "outputs": [],
   "source": [
    "x = 'This is a first sentence. And a second one in the same string.'.split('. ')\n",
    "x"
   ]
  },
  {
   "cell_type": "markdown",
   "metadata": {},
   "source": [
    "<b>List comprehensions</b> allow you to loop over the elements of a list intuitively and efficiently."
   ]
  },
  {
   "cell_type": "code",
   "execution_count": null,
   "metadata": {},
   "outputs": [],
   "source": [
    "x = 'This is a sample sentence'\n",
    "x = x.split()\n",
    "x = [item.lower() for item in x]\n",
    "x"
   ]
  },
  {
   "cell_type": "code",
   "execution_count": null,
   "metadata": {},
   "outputs": [],
   "source": [
    "y = [item for item in x if item.startswith('s')]\n",
    "y"
   ]
  },
  {
   "cell_type": "markdown",
   "metadata": {},
   "source": [
    "Looping through a list using a for loop is very intuitive as well.  Notice that Python does not use a numerical index by default."
   ]
  },
  {
   "cell_type": "code",
   "execution_count": null,
   "metadata": {},
   "outputs": [],
   "source": [
    "for i in x:\n",
    "    for j in y:\n",
    "        print(i + ' ' + j)"
   ]
  },
  {
   "cell_type": "markdown",
   "metadata": {},
   "source": [
    "To loop with an index the traditional way, as in C and other languages, we can use the enumerate function."
   ]
  },
  {
   "cell_type": "code",
   "execution_count": null,
   "metadata": {},
   "outputs": [],
   "source": [
    "for i, element in enumerate(x):\n",
    "    print(i, element)"
   ]
  },
  {
   "cell_type": "markdown",
   "metadata": {},
   "source": [
    "<h3> Tuples </h3>"
   ]
  },
  {
   "cell_type": "code",
   "execution_count": null,
   "metadata": {},
   "outputs": [],
   "source": [
    "x = ('Kamala', 'Harris')\n",
    "x"
   ]
  },
  {
   "cell_type": "code",
   "execution_count": null,
   "metadata": {},
   "outputs": [],
   "source": [
    "for item in x:\n",
    "    print(item)"
   ]
  },
  {
   "cell_type": "markdown",
   "metadata": {},
   "source": [
    "Tuples within a list:"
   ]
  },
  {
   "cell_type": "code",
   "execution_count": null,
   "metadata": {},
   "outputs": [],
   "source": [
    "y = [x, ('Hillary', 'Clinton')]\n",
    "y"
   ]
  },
  {
   "cell_type": "code",
   "execution_count": null,
   "metadata": {},
   "outputs": [],
   "source": [
    "for firstname, lastname in y:\n",
    "    print(firstname + ' ' + lastname)"
   ]
  },
  {
   "cell_type": "markdown",
   "metadata": {},
   "source": [
    "<h3> Dictionaries </h3>"
   ]
  },
  {
   "cell_type": "code",
   "execution_count": null,
   "metadata": {},
   "outputs": [],
   "source": [
    "x = {'First Name' : 'Joe', 'Last Name': 'Biden', 'Age' : 80, 'Location': 'Delaware'}\n",
    "print(x)"
   ]
  },
  {
   "cell_type": "markdown",
   "metadata": {},
   "source": [
    "We can get the value corresponding to an key using the square brackets, as follows:"
   ]
  },
  {
   "cell_type": "code",
   "execution_count": null,
   "metadata": {},
   "outputs": [],
   "source": [
    "x['First Name']"
   ]
  },
  {
   "cell_type": "code",
   "execution_count": null,
   "metadata": {},
   "outputs": [],
   "source": [
    "x['Age']"
   ]
  },
  {
   "cell_type": "markdown",
   "metadata": {},
   "source": [
    "However, the best way to get values from a dictionary is with the method \"get\"; the second argument to get is what to return if the key is not in the dictionary:"
   ]
  },
  {
   "cell_type": "code",
   "execution_count": null,
   "metadata": {},
   "outputs": [],
   "source": [
    "x.get('First Name')"
   ]
  },
  {
   "cell_type": "code",
   "execution_count": null,
   "metadata": {},
   "outputs": [],
   "source": [
    "x.get('Party')"
   ]
  },
  {
   "cell_type": "code",
   "execution_count": null,
   "metadata": {},
   "outputs": [],
   "source": [
    "x.get('Party', 0)"
   ]
  },
  {
   "cell_type": "code",
   "execution_count": null,
   "metadata": {},
   "outputs": [],
   "source": [
    "x.get('Party', 'Unknown')"
   ]
  },
  {
   "cell_type": "markdown",
   "metadata": {},
   "source": [
    "We can replace values within a dictionary as follows:"
   ]
  },
  {
   "cell_type": "code",
   "execution_count": null,
   "metadata": {},
   "outputs": [],
   "source": [
    "x['Age'] = 70\n",
    "print(x)"
   ]
  },
  {
   "cell_type": "markdown",
   "metadata": {},
   "source": [
    "Loop through the items of a dictionary using the items() method:"
   ]
  },
  {
   "cell_type": "code",
   "execution_count": null,
   "metadata": {},
   "outputs": [],
   "source": [
    "for key, value in x.items():    \n",
    "    print(key + ': ' + str(value))"
   ]
  },
  {
   "cell_type": "markdown",
   "metadata": {},
   "source": [
    "We can also create an object using dictionary comprehension, as follows. "
   ]
  },
  {
   "cell_type": "code",
   "execution_count": null,
   "metadata": {},
   "outputs": [],
   "source": [
    "{word:nb for word,nb in [('one',1),('two',2),('three',3)]}"
   ]
  },
  {
   "cell_type": "markdown",
   "metadata": {},
   "source": [
    "Dictionaries are useful for many reasons.  It allows to store data on specific attributes of an item (the 'keys'), and join the values of those attributes together.  Also, the JSON format, one of the most popular to transfer large amounts of data online, is constructed like a dictionary.\n",
    "\n",
    "A dictionary can be used to <b>map</b> keys to values, in order to transform a dataset in a desired format efficiently.  Here's an example:"
   ]
  },
  {
   "cell_type": "code",
   "execution_count": null,
   "metadata": {},
   "outputs": [],
   "source": [
    "sentiment = {'happy' : 'positive', \n",
    "             'joyful' : 'positive',\n",
    "             'content' : 'positive',\n",
    "             'sad' : 'negative',\n",
    "             'depressed' : 'negative',\n",
    "             'frustrated' : 'negative'}"
   ]
  },
  {
   "cell_type": "code",
   "execution_count": null,
   "metadata": {},
   "outputs": [],
   "source": [
    "sentiment.keys()"
   ]
  },
  {
   "cell_type": "code",
   "execution_count": null,
   "metadata": {},
   "outputs": [],
   "source": [
    "sentiment.values()"
   ]
  },
  {
   "cell_type": "code",
   "execution_count": null,
   "metadata": {},
   "outputs": [],
   "source": [
    "s1 = 'i am very happy to hear that'\n",
    "s2 = 'this is so sad it makes me feel depressed'"
   ]
  },
  {
   "cell_type": "code",
   "execution_count": null,
   "metadata": {},
   "outputs": [],
   "source": [
    "sent1 = [sentiment.get(word) for word in s1.split()]\n",
    "print(sent1)\n",
    "print(sent1.count('positive'))\n",
    "print(sent1.count('negative'))"
   ]
  },
  {
   "cell_type": "markdown",
   "metadata": {},
   "source": [
    "There are many ways to use a dictionary with text documents."
   ]
  },
  {
   "cell_type": "code",
   "execution_count": null,
   "metadata": {},
   "outputs": [],
   "source": [
    "sum(1 for word in s1.split() if sentiment.get(word)=='positive')"
   ]
  },
  {
   "cell_type": "code",
   "execution_count": null,
   "metadata": {},
   "outputs": [],
   "source": [
    "sent2 = [sentiment.get(word) for word in s2.split()]\n",
    "print(sent2)\n",
    "print(sent2.count('positive'))\n",
    "print(sent2.count('negative'))"
   ]
  },
  {
   "cell_type": "code",
   "execution_count": null,
   "metadata": {},
   "outputs": [],
   "source": [
    "sentscores = []\n",
    "for sentence in [s1, s2]:\n",
    "    tokens = sentence.split()\n",
    "    sentwords = [sentiment.get(word,0) for word in tokens]\n",
    "    score = (sentwords.count('positive') - sentwords.count('negative'))/len(tokens)\n",
    "    sentscores.append(score)"
   ]
  },
  {
   "cell_type": "code",
   "execution_count": null,
   "metadata": {},
   "outputs": [],
   "source": [
    "sentscores"
   ]
  },
  {
   "cell_type": "code",
   "execution_count": null,
   "metadata": {},
   "outputs": [],
   "source": [
    "for i, score in enumerate(sentscores):\n",
    "    print(f\"Sentence {i+1} has a sentiment score of: {score:0.3f}.\")"
   ]
  },
  {
   "cell_type": "markdown",
   "metadata": {},
   "source": [
    "<h3> Data Frames </h3>\n",
    "\n",
    "R users may be familiar with the data frame type, which is a spreadsheet-like arrangement of a dataset.\n",
    "\n",
    "Python has the equivalent in the form of the very efficient <i>pandas</i> library."
   ]
  },
  {
   "cell_type": "code",
   "execution_count": null,
   "metadata": {},
   "outputs": [],
   "source": [
    "import pandas as pd\n",
    "\n",
    "x = pd.DataFrame({'variable1' : [1, 2, 3], 'variable2' : [4, 5, 6]})\n",
    "x"
   ]
  },
  {
   "cell_type": "code",
   "execution_count": null,
   "metadata": {},
   "outputs": [],
   "source": [
    "x.variable1[0]"
   ]
  },
  {
   "cell_type": "code",
   "execution_count": null,
   "metadata": {},
   "outputs": [],
   "source": [
    "x.variable2[1]"
   ]
  },
  {
   "cell_type": "markdown",
   "metadata": {},
   "source": [
    "<h3> Loops and conditional statements </h3>\n",
    "\n",
    "Python has a very lean and simplified structure for loops and conditional statements, close to English language.  In particular, Python does not require brackets and literally uses 'and' and 'or' as boolean operators (rather than && and ||).\n",
    "\n",
    "Importantly, recall to use the same type of indentation (tab or 4 spaces) consistently.  This is the only clue that the interpreter has to understand your code. \n",
    "\n",
    "If you get an indentation error, revise the indents you used and make sure they are consistent."
   ]
  },
  {
   "cell_type": "code",
   "execution_count": null,
   "metadata": {},
   "outputs": [],
   "source": [
    "x = [92, 109, 4, 'Canada is a country', \n",
    "         'Quantum computing is the future', 12, 17, 52, \n",
    "         'I currently live in Canada']"
   ]
  },
  {
   "cell_type": "code",
   "execution_count": null,
   "metadata": {},
   "outputs": [],
   "source": [
    "for item in x:\n",
    "    if type(item)==str and 'Canada' in item:\n",
    "        print(item)"
   ]
  },
  {
   "cell_type": "code",
   "execution_count": null,
   "metadata": {},
   "outputs": [],
   "source": [
    "for item in x:\n",
    "    if type(item)==str and 'Canada' not in item:\n",
    "        print(item)"
   ]
  },
  {
   "cell_type": "code",
   "execution_count": null,
   "metadata": {},
   "outputs": [],
   "source": [
    "x = 1\n",
    "while x < 6:\n",
    "    print(x)\n",
    "    x+=1"
   ]
  },
  {
   "cell_type": "markdown",
   "metadata": {},
   "source": [
    "<h3> Input/Output </h3>\n",
    "\n",
    "Input/Output is a key component to learn when becoming familiar with a new language. We'll need to spend some time to cover all the possible formats later one, but let's see how it works.\n",
    "\n",
    "First, you can check the working directory with:"
   ]
  },
  {
   "cell_type": "code",
   "execution_count": null,
   "metadata": {},
   "outputs": [],
   "source": [
    "import os\n",
    "\n",
    "os.getcwd()"
   ]
  },
  {
   "cell_type": "markdown",
   "metadata": {},
   "source": [
    "If you wanted to set the working directory to something else, then do the following:\n",
    "<code>\n",
    "import os\n",
    "os.chdir('new_path')\n",
    "</code>\n",
    "\n",
    "The os and sys packages contain most of the tools to communicate with your Operating System and perform advanced input/output operations.\n",
    "\n",
    "For instance, os.dirlist(path) will list the files contained in the specified path."
   ]
  },
  {
   "cell_type": "code",
   "execution_count": null,
   "metadata": {},
   "outputs": [],
   "source": [
    "default_path = os.getcwd()\n",
    "filelist = os.listdir(default_path)\n",
    "\n",
    "for f in filelist:\n",
    "    print(f)"
   ]
  },
  {
   "cell_type": "markdown",
   "metadata": {},
   "source": [
    "As you can see, the list is unordered.  If order matters, enclose the expression within sorted()"
   ]
  },
  {
   "cell_type": "code",
   "execution_count": null,
   "metadata": {},
   "outputs": [],
   "source": [
    "filelist = sorted(os.listdir(default_path))\n",
    "\n",
    "for f in filelist:\n",
    "    print(f)"
   ]
  },
  {
   "cell_type": "markdown",
   "metadata": {},
   "source": [
    "Now, suppose there's a file on your computer called 'example.txt'.  The open function is a pointer to that file."
   ]
  },
  {
   "cell_type": "code",
   "execution_count": null,
   "metadata": {},
   "outputs": [],
   "source": [
    "f = open('example.txt', encoding='utf-8')"
   ]
  },
  {
   "cell_type": "code",
   "execution_count": null,
   "metadata": {},
   "outputs": [],
   "source": [
    "f"
   ]
  },
  {
   "cell_type": "code",
   "execution_count": null,
   "metadata": {},
   "outputs": [],
   "source": [
    "f.read()"
   ]
  },
  {
   "cell_type": "markdown",
   "metadata": {},
   "source": [
    "Reading it a second time won't work:"
   ]
  },
  {
   "cell_type": "code",
   "execution_count": null,
   "metadata": {},
   "outputs": [],
   "source": [
    "f.read()"
   ]
  },
  {
   "cell_type": "code",
   "execution_count": null,
   "metadata": {},
   "outputs": [],
   "source": [
    "f"
   ]
  },
  {
   "cell_type": "code",
   "execution_count": null,
   "metadata": {},
   "outputs": [],
   "source": [
    "f.seek(0)\n",
    "f.read()"
   ]
  },
  {
   "cell_type": "code",
   "execution_count": null,
   "metadata": {},
   "outputs": [],
   "source": [
    "f.close()"
   ]
  },
  {
   "cell_type": "markdown",
   "metadata": {},
   "source": [
    "A more common way to write Python code, consistent with this behaviour, is to use the with statement:"
   ]
  },
  {
   "cell_type": "code",
   "execution_count": null,
   "metadata": {},
   "outputs": [],
   "source": [
    "with open('example.txt', encoding='utf-8') as f:\n",
    "    text = f.read()\n",
    "text"
   ]
  },
  {
   "cell_type": "markdown",
   "metadata": {},
   "source": [
    "If the lines correspond to relevant units of texts (they often are), i.e. documents, then we can split them by line as follows:"
   ]
  },
  {
   "cell_type": "code",
   "execution_count": null,
   "metadata": {},
   "outputs": [],
   "source": [
    "with open('example.txt', encoding='utf-8') as f:\n",
    "    text = f.read().splitlines()\n",
    "text"
   ]
  },
  {
   "cell_type": "code",
   "execution_count": null,
   "metadata": {},
   "outputs": [],
   "source": [
    "for document in text:\n",
    "    print(document)\n",
    "    print()"
   ]
  },
  {
   "cell_type": "markdown",
   "metadata": {},
   "source": [
    "There is a csv library that can be used to write and load spreadsheet-like files."
   ]
  },
  {
   "cell_type": "code",
   "execution_count": null,
   "metadata": {},
   "outputs": [],
   "source": [
    "document_numbers = [1,2,3]\n",
    "document_tags = ['Some Value', 'Some Other Value', 'Yet Another Value']"
   ]
  },
  {
   "cell_type": "code",
   "execution_count": null,
   "metadata": {},
   "outputs": [],
   "source": [
    "dataset = zip(document_numbers, text, document_tags)"
   ]
  },
  {
   "cell_type": "markdown",
   "metadata": {},
   "source": [
    "Note that the zip function above creates an iterator.  It will be \"exhausted\" after one use."
   ]
  },
  {
   "cell_type": "code",
   "execution_count": null,
   "metadata": {},
   "outputs": [],
   "source": [
    "import csv\n",
    "\n",
    "with open('example_spreadsheet.csv', 'w', encoding='utf-8', newline='') as fout:\n",
    "    w = csv.writer(fout)\n",
    "    w.writerow(('docnumber','text','values'))\n",
    "    for d, t, v in dataset:\n",
    "        w.writerow((d, t, v))  "
   ]
  },
  {
   "cell_type": "markdown",
   "metadata": {},
   "source": [
    "I recommend using <b>pandas</b> instead to handle spreadsheets:"
   ]
  },
  {
   "cell_type": "code",
   "execution_count": null,
   "metadata": {},
   "outputs": [],
   "source": [
    "import pandas as pd\n",
    "\n",
    "df = pd.read_csv('example_spreadsheet.csv', delimiter=',', header=0)"
   ]
  },
  {
   "cell_type": "code",
   "execution_count": null,
   "metadata": {},
   "outputs": [],
   "source": [
    "df"
   ]
  },
  {
   "cell_type": "code",
   "execution_count": null,
   "metadata": {},
   "outputs": [],
   "source": [
    "text = df.text.tolist()"
   ]
  },
  {
   "cell_type": "code",
   "execution_count": null,
   "metadata": {},
   "outputs": [],
   "source": [
    "print(text)"
   ]
  },
  {
   "cell_type": "markdown",
   "metadata": {},
   "source": [
    "<h3> Functions </h3>"
   ]
  },
  {
   "cell_type": "code",
   "execution_count": null,
   "metadata": {},
   "outputs": [],
   "source": [
    "def remove_words(text):\n",
    "    words_to_remove = ['Canada','bill','government','law']\n",
    "    text = text.split()\n",
    "    text = [w for w in text if w not in words_to_remove]\n",
    "    text = ' '.join(text)\n",
    "    return text"
   ]
  },
  {
   "cell_type": "code",
   "execution_count": null,
   "metadata": {},
   "outputs": [],
   "source": [
    "x = 'i proudly introduce this bill in the name of our government'\n",
    "x"
   ]
  },
  {
   "cell_type": "code",
   "execution_count": null,
   "metadata": {},
   "outputs": [],
   "source": [
    "remove_words(x)"
   ]
  },
  {
   "cell_type": "markdown",
   "metadata": {},
   "source": [
    "<h3> Classes </h3>\n",
    "\n",
    "Python is an object-oriented language and classes represent a fundamental component for this type of languages."
   ]
  },
  {
   "cell_type": "code",
   "execution_count": null,
   "metadata": {},
   "outputs": [],
   "source": [
    "class NlpStudents:\n",
    "    \n",
    "    def __init__(self, firstname, lastname, age):\n",
    "        self.age = age\n",
    "        self.fname = firstname\n",
    "        self.lname = lastname\n",
    "    \n",
    "    def word_transform(self,text):\n",
    "        self.text = text\n",
    "        return self.text.lower()\n",
    "    \n",
    "    def print_name(self):\n",
    "        print(self.fname + ' ' + self.lname)"
   ]
  },
  {
   "cell_type": "code",
   "execution_count": null,
   "metadata": {},
   "outputs": [],
   "source": [
    "johnny = NlpStudents('John', 'Doe', 29)"
   ]
  },
  {
   "cell_type": "code",
   "execution_count": null,
   "metadata": {},
   "outputs": [],
   "source": [
    "type(johnny)"
   ]
  },
  {
   "cell_type": "code",
   "execution_count": null,
   "metadata": {},
   "outputs": [],
   "source": [
    "johnny.age"
   ]
  },
  {
   "cell_type": "code",
   "execution_count": null,
   "metadata": {},
   "outputs": [],
   "source": [
    "johnny.word_transform('Canada')"
   ]
  },
  {
   "cell_type": "code",
   "execution_count": null,
   "metadata": {},
   "outputs": [],
   "source": [
    "johnny.print_name()"
   ]
  },
  {
   "cell_type": "markdown",
   "metadata": {},
   "source": [
    "<h3> Handling common file formats for textual data </h3>\n",
    "\n",
    "We've seen how to load a text file and spreadsheet-like files, two common formats.  But there are other formats used to store and disseminate textual data.  These are:\n",
    "\n",
    "<ol>\n",
    "<li> The e<b>X</b>tensible <b>M</b>arkup <b>L</b>anguage (xml); </li>\n",
    "<li> The <b>H</b>yper<b>T</b>ext <b>M</b>arkup <b>L</b>anguage (html); </li>\n",
    "<li> The <b>J</b>ava<b>S</b>cript <b>O</b>bject <b>N</b>otation (JSON); </li>\n",
    "<li> SQL databases. </li>\n",
    "</ol>\n",
    "\n",
    "The JSON format is becoming popular to share large dataset online.  It is the easiest one to use, so we'll focus mostly on the two trickier ones: xml and html.\n",
    "\n",
    "SQL is a database management system, widely used on servers.  It's probably the format you'll want to learn to prepare for the business world.  Covering this topic would require some more time.  We may come back to it at the end of the course, only if time permits."
   ]
  },
  {
   "cell_type": "markdown",
   "metadata": {},
   "source": [
    "<h4> Coming to grips with XML </h4>\n",
    "\n",
    "There are many libraries to parse xml and html files in Python.  For simplicity, we will concentrate on one of those libraries: lxml.\n",
    "\n",
    "Consider the example file from the British parliamentary debates.\n",
    "\n",
    "The lazy way to parse is to identify the element we want and select the appropriate path with the xpath function in lxml."
   ]
  },
  {
   "cell_type": "code",
   "execution_count": null,
   "metadata": {},
   "outputs": [],
   "source": [
    "import lxml.etree as etree"
   ]
  },
  {
   "cell_type": "markdown",
   "metadata": {},
   "source": [
    "First we recover the xml tree (structure) by parsing the xml file, using the etree.parse class."
   ]
  },
  {
   "cell_type": "code",
   "execution_count": null,
   "metadata": {},
   "outputs": [],
   "source": [
    "with open('uk.proc.d.2013-12-11.xml', encoding='utf-8') as f:\n",
    "    parsedf = etree.parse(f)\n",
    "parsedf"
   ]
  },
  {
   "cell_type": "markdown",
   "metadata": {},
   "source": [
    "The resulting object is a parsed tree pointer for extracting information.  \n",
    "\n",
    "Dealing with xml data is not always intuitive, which is why other formats have become more popular.  In practical terms, what you probably want to achieve is the following:\n",
    "\n",
    "<ol>\n",
    "<li> Finding the tag(s) of interest, e.g. the one that delimit the text and/or the attributes contained within tags. </li> \n",
    "<li> Verifying if the xml file uses a customized namespace, in which case you will need to do one of two things: </li>\n",
    "<ul>\n",
    "<li> Extract information about namespaces and declare it. </li>\n",
    "<li> Remove the namespace markers to bypass the namespaces. </li>\n",
    "</ul>\n",
    "<li> Loop through the file and extract information contained in the tags of interest. </li> \n",
    "</ol>\n",
    "\n",
    "For illustration, let's extract speeches and names from the UK parliament xml files.  It may help to visualize all the tags used in the file to identify where is the information we want, and that we don't want.  The following does just that."
   ]
  },
  {
   "cell_type": "code",
   "execution_count": null,
   "metadata": {},
   "outputs": [],
   "source": [
    "taglist = [child.tag for child in parsedf.iter()]    \n",
    "for tag in sorted(set(taglist)):\n",
    "    print(tag)"
   ]
  },
  {
   "cell_type": "markdown",
   "metadata": {},
   "source": [
    "This illustrates an xml file with pre-defined namespaces: there is an {}-expression before the tag names."
   ]
  },
  {
   "cell_type": "markdown",
   "metadata": {},
   "source": [
    "The key here is to declare the namespace.  In this case, we saw the namespace designation in the curly brackets. "
   ]
  },
  {
   "cell_type": "code",
   "execution_count": null,
   "metadata": {},
   "outputs": [],
   "source": [
    "# We declare the namespace:\n",
    "ns = {\"pm\":\"http://www.politicalmashup.nl\"}\n",
    "\n",
    "speeches = []\n",
    "# We specify the namespace everytime we use xpath:\n",
    "speechtags = parsedf.xpath('.//pm:speech', namespaces=ns) \n",
    "for s in speechtags:\n",
    "    speech = etree.tostring(s,method=\"text\",encoding=\"unicode\",pretty_print=True)\n",
    "    speeches.append(speech)\n",
    "\n",
    "print(len(speeches))\n",
    "print(speeches[0].strip())"
   ]
  },
  {
   "cell_type": "code",
   "execution_count": null,
   "metadata": {},
   "outputs": [],
   "source": [
    "speeches = []\n",
    "speakernames = []\n",
    "\n",
    "for s in speechtags:\n",
    "    speech = etree.tostring(s,method=\"text\",encoding=\"unicode\",pretty_print=True)\n",
    "    name = s.xpath('@pm:speaker',namespaces=ns)[0]\n",
    "    speeches.append(speech)\n",
    "    speakernames.append(name)\n",
    "\n",
    "print(speakernames[0])\n",
    "print(speeches[0].strip())"
   ]
  },
  {
   "cell_type": "markdown",
   "metadata": {},
   "source": [
    "<h4> Parsing HTML </h4>\n",
    "\n",
    "Parsing html files follows the same steps.  However, we normally won't have to care about namespaces.  The usage of tags follows standard conventions.  For instance, the text content of a website is usually located within the &lt;body&gt; tag and may have &lt;p&gt; tags interspersed.  Or we may want to extract items from a list contained within the common &lt;ol&gt; or &lt;ul&gt; tags.  As with xml, the data may be malformed. \n",
    "\n",
    "Beautiful Soup is a Python library that attempts a \"universal\" approach to clean and extract information from html files.  It'll usually work well, in most cases.  lxml can also be used to parse html. "
   ]
  },
  {
   "cell_type": "code",
   "execution_count": null,
   "metadata": {},
   "outputs": [],
   "source": [
    "from bs4 import BeautifulSoup\n",
    "\n",
    "with open('about_library.html', 'r', encoding='utf-8') as f:\n",
    "    soup = BeautifulSoup(f, 'lxml')"
   ]
  },
  {
   "cell_type": "code",
   "execution_count": null,
   "metadata": {},
   "outputs": [],
   "source": [
    "text = soup.find('article', {\"about\" : \"/about\"})\n",
    "text"
   ]
  },
  {
   "cell_type": "code",
   "execution_count": null,
   "metadata": {},
   "outputs": [],
   "source": [
    "text.getText()"
   ]
  },
  {
   "cell_type": "code",
   "execution_count": null,
   "metadata": {},
   "outputs": [],
   "source": [
    "text.getText().split('\\n')"
   ]
  },
  {
   "cell_type": "code",
   "execution_count": null,
   "metadata": {},
   "outputs": [],
   "source": [
    "library_text = text.getText().split('\\n')\n",
    "library_text = [line for line in library_text if line.strip()!='']\n",
    "library_text"
   ]
  },
  {
   "cell_type": "markdown",
   "metadata": {},
   "source": [
    "<h4>The JSON format</h4>\n",
    "\n",
    "JSON, on the other hand, is very simple.  It is simply a dictionary.  If you have multiple lines with one tweet in JSON format per line, load all the file, split the lines, and then parse the JSON objects.\n",
    "\n",
    "Let's consider this example of data obtained from the Twitter Stream API."
   ]
  },
  {
   "cell_type": "code",
   "execution_count": null,
   "metadata": {},
   "outputs": [],
   "source": [
    "import json\n",
    "\n",
    "with open('tweets-sample.txt') as f:\n",
    "    tweet_stream = f.read().splitlines()\n",
    "\n",
    "tweet = json.loads(tweet_stream[0])\n",
    "print(tweet['text'])\n",
    "print(tweet['user']['screen_name'])"
   ]
  },
  {
   "cell_type": "code",
   "execution_count": null,
   "metadata": {},
   "outputs": [],
   "source": [
    "print(tweet_stream[0])"
   ]
  },
  {
   "cell_type": "code",
   "execution_count": null,
   "metadata": {},
   "outputs": [],
   "source": [
    "for line in tweet_stream:\n",
    "    if line:\n",
    "        tweet = json.loads(line)\n",
    "        text = tweet['text']\n",
    "        user = tweet['user']['screen_name']\n",
    "        print(user + ': ' + text)\n",
    "        print()"
   ]
  },
  {
   "cell_type": "code",
   "execution_count": null,
   "metadata": {},
   "outputs": [],
   "source": [
    "import html\n",
    "\n",
    "for line in tweet_stream:\n",
    "    if line:\n",
    "        tweet = json.loads(line)\n",
    "        text = tweet['text']\n",
    "        user = tweet['user']['screen_name']\n",
    "        print(html.unescape(text))"
   ]
  },
  {
   "cell_type": "code",
   "execution_count": null,
   "metadata": {},
   "outputs": [],
   "source": [
    "for line in tweet_stream:\n",
    "    if line:\n",
    "        tweet = json.loads(line)           \n",
    "        if 'extended_tweet' in tweet:\n",
    "            text = tweet['extended_tweet']['full_text']\n",
    "        else:\n",
    "            text = tweet['text']\n",
    "        user = tweet['user']['screen_name']\n",
    "        print(html.unescape(text))"
   ]
  },
  {
   "cell_type": "code",
   "execution_count": null,
   "metadata": {},
   "outputs": [],
   "source": [
    "for line in tweet_stream:\n",
    "    if line:\n",
    "        tweet = json.loads(line)\n",
    "        if 'retweeted_status' in tweet:\n",
    "            if 'extended_tweet' in tweet['retweeted_status']:\n",
    "                text = tweet['retweeted_status']['extended_tweet']['full_text']\n",
    "            else:\n",
    "                text = tweet['retweeted_status']['text']\n",
    "        else:\n",
    "            if 'extended_tweet' in tweet:\n",
    "                text = tweet['extended_tweet']['full_text']\n",
    "            else:\n",
    "                text = tweet['text']\n",
    "        user = tweet['user']['screen_name']\n",
    "        print(html.unescape(text)) "
   ]
  },
  {
   "cell_type": "code",
   "execution_count": null,
   "metadata": {},
   "outputs": [],
   "source": [
    "# The newline argument is needed for Windows only.\n",
    "\n",
    "with open('my_tweets.csv', 'w', encoding='utf-8', newline='') as fout:\n",
    "    writer = csv.writer(fout)\n",
    "    writer.writerow(('user','tweet'))\n",
    "    for line in tweet_stream:\n",
    "        if line:\n",
    "            tweet = json.loads(line)\n",
    "            if 'retweeted_status' in tweet:\n",
    "                if 'extended_tweet' in tweet['retweeted_status']:\n",
    "                    text = tweet['retweeted_status']['extended_tweet']['full_text']\n",
    "                else:\n",
    "                    text = tweet['retweeted_status']['text']\n",
    "            else:\n",
    "                if 'extended_tweet' in tweet:\n",
    "                    text = tweet['extended_tweet']['full_text']\n",
    "                else:\n",
    "                    text = tweet['text']\n",
    "            user = tweet['user']['screen_name']\n",
    "            writer.writerow((user, html.unescape(text)))"
   ]
  },
  {
   "cell_type": "markdown",
   "metadata": {},
   "source": [
    "Of course, we can take advantage of using a programming language and write a function that will parse the tweets as we want.  Once defined, we can invoke that function on the fly and process the Tweets within the same script."
   ]
  },
  {
   "cell_type": "code",
   "execution_count": null,
   "metadata": {},
   "outputs": [],
   "source": [
    "def tweet_parser(tweet_object):\n",
    "    tweet = json.loads(tweet_object)\n",
    "    if 'retweeted_status' in tweet:\n",
    "        if 'extended_tweet' in tweet['retweeted_status']:\n",
    "            text = tweet['retweeted_status']['extended_tweet']['full_text']\n",
    "        else:\n",
    "            text = tweet['retweeted_status']['text']\n",
    "    else:\n",
    "        if 'extended_tweet' in tweet:\n",
    "            text = tweet['extended_tweet']['full_text']\n",
    "        else:\n",
    "            text = tweet['text']\n",
    "    user = tweet['user']['screen_name']\n",
    "    return (user, text)"
   ]
  },
  {
   "cell_type": "code",
   "execution_count": null,
   "metadata": {},
   "outputs": [],
   "source": [
    "for line in tweet_stream:\n",
    "    if line:\n",
    "        user, text = tweet_parser(line)\n",
    "        print(user)\n",
    "        print(html.unescape(text))"
   ]
  },
  {
   "cell_type": "markdown",
   "metadata": {},
   "source": [
    "This concludes our tour of the Python programming language.  We will have opportunities to work with all sorts of scripts later on, and to learn libraries specific to NLP. \n",
    "\n",
    "An advantage of Python is its simplicity and the very large community of users.  For most questions that you may have, the answer is already there on StackOverflow.  "
   ]
  }
 ],
 "metadata": {
  "kernelspec": {
   "display_name": "Python 3",
   "language": "python",
   "name": "python3"
  },
  "language_info": {
   "codemirror_mode": {
    "name": "ipython",
    "version": 3
   },
   "file_extension": ".py",
   "mimetype": "text/x-python",
   "name": "python",
   "nbconvert_exporter": "python",
   "pygments_lexer": "ipython3",
   "version": "3.8.10"
  }
 },
 "nbformat": 4,
 "nbformat_minor": 1
}
