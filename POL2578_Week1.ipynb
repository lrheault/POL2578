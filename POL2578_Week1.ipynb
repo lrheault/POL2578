{
 "cells": [
  {
   "cell_type": "markdown",
   "metadata": {},
   "source": [
    "<h1> POL2578.  Weeks 1-2.  Introduction to Python.</h1>\n",
    "\n",
    "<h2> Part 1. Strings and encodings</h2>\n",
    "\n",
    "We will use the <b>Jupyter</b> notebook for examples during class (based on iPython). This is a popular and modern approach to write code in Python.  It allows to combine formatted comments, input code and output in a single document. \n",
    "\n",
    "For starters, we will look at how <b>Python</b> processes strings (textual characters) and encodings.\n",
    "\n",
    "Unlike low-level languages, Python recognizes a string without the need to declare it.  For instance:"
   ]
  },
  {
   "cell_type": "code",
   "execution_count": null,
   "metadata": {},
   "outputs": [],
   "source": [
    "x = \"This is my sentence.\"\n",
    "print(x)"
   ]
  },
  {
   "cell_type": "markdown",
   "metadata": {},
   "source": [
    "Notice that we can use the single, double or triple quotes; we only need to be consistent in our usage, i.e. closing the quote with the same type we use to open it. "
   ]
  },
  {
   "cell_type": "code",
   "execution_count": null,
   "metadata": {},
   "outputs": [],
   "source": [
    "y = 'Hello, World!'\n",
    "print(y)"
   ]
  },
  {
   "cell_type": "markdown",
   "metadata": {},
   "source": [
    "We can ask which data type was assigned to a variable with the function type():"
   ]
  },
  {
   "cell_type": "code",
   "execution_count": null,
   "metadata": {},
   "outputs": [],
   "source": [
    "type(x)"
   ]
  },
  {
   "cell_type": "markdown",
   "metadata": {},
   "source": [
    "Python 3 uses the unicode standard by default to encode strings (with the str type).  This is what we want.  But you may face situations where a document was encoded in ASCII. Here's an example. Suppose a friend sends you the file gazette.txt, an article from The Gazette.\n",
    "\n",
    "(Note: Earlier versions of Python 2.x used one byte to encode strings with the str type, and had a separate type, unicode, for the unicode standard.  This distinction is not necessary with Python 3.)"
   ]
  },
  {
   "cell_type": "code",
   "execution_count": null,
   "metadata": {},
   "outputs": [],
   "source": [
    "f = open('gazette.txt')\n",
    "text = f.read()\n",
    "f.close()"
   ]
  },
  {
   "cell_type": "markdown",
   "metadata": {},
   "source": [
    "The file was encoded with the ISO-8859-1 standard.  It contains accents.  We can open it properly by specifying the encoding.  Here, \"latin\" is an alias for that encoding."
   ]
  },
  {
   "cell_type": "code",
   "execution_count": null,
   "metadata": {
    "collapsed": true
   },
   "outputs": [],
   "source": [
    "f = open('gazette.txt', encoding='latin')\n",
    "text = f.read()\n",
    "f.close()"
   ]
  },
  {
   "cell_type": "code",
   "execution_count": null,
   "metadata": {},
   "outputs": [],
   "source": [
    "print(text)"
   ]
  },
  {
   "cell_type": "code",
   "execution_count": null,
   "metadata": {},
   "outputs": [],
   "source": [
    "type(text)"
   ]
  },
  {
   "cell_type": "markdown",
   "metadata": {},
   "source": [
    "If we save it without specifying an encoding, Python will convert it to unicode.  That's usually what we want.  If we reopen the new file we created, it will work properly.  (Meanwhile, you can voice your frustration and send the converted file back to your friend, just to show them how it's done.)"
   ]
  },
  {
   "cell_type": "code",
   "execution_count": null,
   "metadata": {
    "collapsed": true
   },
   "outputs": [],
   "source": [
    "g = open('gazette_unicode.txt', 'w')\n",
    "g.write(text)\n",
    "g.close()"
   ]
  },
  {
   "cell_type": "code",
   "execution_count": null,
   "metadata": {
    "collapsed": true
   },
   "outputs": [],
   "source": [
    "f = open('gazette_unicode.txt')\n",
    "text = f.read()\n",
    "f.close()"
   ]
  },
  {
   "cell_type": "code",
   "execution_count": null,
   "metadata": {},
   "outputs": [],
   "source": [
    "print(text)"
   ]
  },
  {
   "cell_type": "markdown",
   "metadata": {},
   "source": [
    "These types of problems are less and less frequent, given that most people have moved to unicode as the new standard.  \n",
    "\n",
    "Again, if the document uses unicode, it won't be a problem.  Even this Jupyter page is utf-8 encoded.  For instance:"
   ]
  },
  {
   "cell_type": "code",
   "execution_count": null,
   "metadata": {},
   "outputs": [],
   "source": [
    "text = '緁 榃痯痻 彃慔慛 噅尰崺 圁垺,槄 鞿鬖 裌覅詵 裺觨誖 鈖嗋圔'\n",
    "text"
   ]
  },
  {
   "cell_type": "markdown",
   "metadata": {},
   "source": [
    "If facing troubles, you may find the full list of encodings supported in Python here: https://docs.python.org/3.6/library/codecs.html#standard-encodings"
   ]
  }
 ],
 "metadata": {
  "kernelspec": {
   "display_name": "Python 3",
   "language": "python",
   "name": "python3"
  },
  "language_info": {
   "codemirror_mode": {
    "name": "ipython",
    "version": 3
   },
   "file_extension": ".py",
   "mimetype": "text/x-python",
   "name": "python",
   "nbconvert_exporter": "python",
   "pygments_lexer": "ipython3",
   "version": "3.5.3"
  }
 },
 "nbformat": 4,
 "nbformat_minor": 1
}
